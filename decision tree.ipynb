{
 "cells": [
  {
   "cell_type": "markdown",
   "metadata": {},
   "source": [
    "# decision tree classifier from scikit-learn on iris dataset:"
   ]
  },
  {
   "cell_type": "code",
   "execution_count": 1,
   "metadata": {},
   "outputs": [],
   "source": [
    "from sklearn import datasets\n",
    "from sklearn.model_selection import train_test_split\n",
    "from sklearn.preprocessing import StandardScaler\n",
    "from sklearn.tree import DecisionTreeClassifier\n",
    "from sklearn.metrics import accuracy_score"
   ]
  },
  {
   "cell_type": "markdown",
   "metadata": {},
   "source": [
    "# 1. Load the data"
   ]
  },
  {
   "cell_type": "code",
   "execution_count": 2,
   "metadata": {},
   "outputs": [],
   "source": [
    "iris= datasets.load_iris()"
   ]
  },
  {
   "cell_type": "markdown",
   "metadata": {},
   "source": [
    "# 2. Get the features & labels from the data"
   ]
  },
  {
   "cell_type": "code",
   "execution_count": 3,
   "metadata": {},
   "outputs": [],
   "source": [
    "x= iris.data\n",
    "y= iris.target"
   ]
  },
  {
   "cell_type": "code",
   "execution_count": 4,
   "metadata": {},
   "outputs": [
    {
     "data": {
      "text/plain": [
       "array([[5.1, 3.5, 1.4, 0.2],\n",
       "       [4.9, 3. , 1.4, 0.2],\n",
       "       [4.7, 3.2, 1.3, 0.2],\n",
       "       [4.6, 3.1, 1.5, 0.2],\n",
       "       [5. , 3.6, 1.4, 0.2],\n",
       "       [5.4, 3.9, 1.7, 0.4],\n",
       "       [4.6, 3.4, 1.4, 0.3],\n",
       "       [5. , 3.4, 1.5, 0.2],\n",
       "       [4.4, 2.9, 1.4, 0.2],\n",
       "       [4.9, 3.1, 1.5, 0.1],\n",
       "       [5.4, 3.7, 1.5, 0.2],\n",
       "       [4.8, 3.4, 1.6, 0.2],\n",
       "       [4.8, 3. , 1.4, 0.1],\n",
       "       [4.3, 3. , 1.1, 0.1],\n",
       "       [5.8, 4. , 1.2, 0.2],\n",
       "       [5.7, 4.4, 1.5, 0.4],\n",
       "       [5.4, 3.9, 1.3, 0.4],\n",
       "       [5.1, 3.5, 1.4, 0.3],\n",
       "       [5.7, 3.8, 1.7, 0.3],\n",
       "       [5.1, 3.8, 1.5, 0.3],\n",
       "       [5.4, 3.4, 1.7, 0.2],\n",
       "       [5.1, 3.7, 1.5, 0.4],\n",
       "       [4.6, 3.6, 1. , 0.2],\n",
       "       [5.1, 3.3, 1.7, 0.5],\n",
       "       [4.8, 3.4, 1.9, 0.2],\n",
       "       [5. , 3. , 1.6, 0.2],\n",
       "       [5. , 3.4, 1.6, 0.4],\n",
       "       [5.2, 3.5, 1.5, 0.2],\n",
       "       [5.2, 3.4, 1.4, 0.2],\n",
       "       [4.7, 3.2, 1.6, 0.2],\n",
       "       [4.8, 3.1, 1.6, 0.2],\n",
       "       [5.4, 3.4, 1.5, 0.4],\n",
       "       [5.2, 4.1, 1.5, 0.1],\n",
       "       [5.5, 4.2, 1.4, 0.2],\n",
       "       [4.9, 3.1, 1.5, 0.2],\n",
       "       [5. , 3.2, 1.2, 0.2],\n",
       "       [5.5, 3.5, 1.3, 0.2],\n",
       "       [4.9, 3.6, 1.4, 0.1],\n",
       "       [4.4, 3. , 1.3, 0.2],\n",
       "       [5.1, 3.4, 1.5, 0.2],\n",
       "       [5. , 3.5, 1.3, 0.3],\n",
       "       [4.5, 2.3, 1.3, 0.3],\n",
       "       [4.4, 3.2, 1.3, 0.2],\n",
       "       [5. , 3.5, 1.6, 0.6],\n",
       "       [5.1, 3.8, 1.9, 0.4],\n",
       "       [4.8, 3. , 1.4, 0.3],\n",
       "       [5.1, 3.8, 1.6, 0.2],\n",
       "       [4.6, 3.2, 1.4, 0.2],\n",
       "       [5.3, 3.7, 1.5, 0.2],\n",
       "       [5. , 3.3, 1.4, 0.2],\n",
       "       [7. , 3.2, 4.7, 1.4],\n",
       "       [6.4, 3.2, 4.5, 1.5],\n",
       "       [6.9, 3.1, 4.9, 1.5],\n",
       "       [5.5, 2.3, 4. , 1.3],\n",
       "       [6.5, 2.8, 4.6, 1.5],\n",
       "       [5.7, 2.8, 4.5, 1.3],\n",
       "       [6.3, 3.3, 4.7, 1.6],\n",
       "       [4.9, 2.4, 3.3, 1. ],\n",
       "       [6.6, 2.9, 4.6, 1.3],\n",
       "       [5.2, 2.7, 3.9, 1.4],\n",
       "       [5. , 2. , 3.5, 1. ],\n",
       "       [5.9, 3. , 4.2, 1.5],\n",
       "       [6. , 2.2, 4. , 1. ],\n",
       "       [6.1, 2.9, 4.7, 1.4],\n",
       "       [5.6, 2.9, 3.6, 1.3],\n",
       "       [6.7, 3.1, 4.4, 1.4],\n",
       "       [5.6, 3. , 4.5, 1.5],\n",
       "       [5.8, 2.7, 4.1, 1. ],\n",
       "       [6.2, 2.2, 4.5, 1.5],\n",
       "       [5.6, 2.5, 3.9, 1.1],\n",
       "       [5.9, 3.2, 4.8, 1.8],\n",
       "       [6.1, 2.8, 4. , 1.3],\n",
       "       [6.3, 2.5, 4.9, 1.5],\n",
       "       [6.1, 2.8, 4.7, 1.2],\n",
       "       [6.4, 2.9, 4.3, 1.3],\n",
       "       [6.6, 3. , 4.4, 1.4],\n",
       "       [6.8, 2.8, 4.8, 1.4],\n",
       "       [6.7, 3. , 5. , 1.7],\n",
       "       [6. , 2.9, 4.5, 1.5],\n",
       "       [5.7, 2.6, 3.5, 1. ],\n",
       "       [5.5, 2.4, 3.8, 1.1],\n",
       "       [5.5, 2.4, 3.7, 1. ],\n",
       "       [5.8, 2.7, 3.9, 1.2],\n",
       "       [6. , 2.7, 5.1, 1.6],\n",
       "       [5.4, 3. , 4.5, 1.5],\n",
       "       [6. , 3.4, 4.5, 1.6],\n",
       "       [6.7, 3.1, 4.7, 1.5],\n",
       "       [6.3, 2.3, 4.4, 1.3],\n",
       "       [5.6, 3. , 4.1, 1.3],\n",
       "       [5.5, 2.5, 4. , 1.3],\n",
       "       [5.5, 2.6, 4.4, 1.2],\n",
       "       [6.1, 3. , 4.6, 1.4],\n",
       "       [5.8, 2.6, 4. , 1.2],\n",
       "       [5. , 2.3, 3.3, 1. ],\n",
       "       [5.6, 2.7, 4.2, 1.3],\n",
       "       [5.7, 3. , 4.2, 1.2],\n",
       "       [5.7, 2.9, 4.2, 1.3],\n",
       "       [6.2, 2.9, 4.3, 1.3],\n",
       "       [5.1, 2.5, 3. , 1.1],\n",
       "       [5.7, 2.8, 4.1, 1.3],\n",
       "       [6.3, 3.3, 6. , 2.5],\n",
       "       [5.8, 2.7, 5.1, 1.9],\n",
       "       [7.1, 3. , 5.9, 2.1],\n",
       "       [6.3, 2.9, 5.6, 1.8],\n",
       "       [6.5, 3. , 5.8, 2.2],\n",
       "       [7.6, 3. , 6.6, 2.1],\n",
       "       [4.9, 2.5, 4.5, 1.7],\n",
       "       [7.3, 2.9, 6.3, 1.8],\n",
       "       [6.7, 2.5, 5.8, 1.8],\n",
       "       [7.2, 3.6, 6.1, 2.5],\n",
       "       [6.5, 3.2, 5.1, 2. ],\n",
       "       [6.4, 2.7, 5.3, 1.9],\n",
       "       [6.8, 3. , 5.5, 2.1],\n",
       "       [5.7, 2.5, 5. , 2. ],\n",
       "       [5.8, 2.8, 5.1, 2.4],\n",
       "       [6.4, 3.2, 5.3, 2.3],\n",
       "       [6.5, 3. , 5.5, 1.8],\n",
       "       [7.7, 3.8, 6.7, 2.2],\n",
       "       [7.7, 2.6, 6.9, 2.3],\n",
       "       [6. , 2.2, 5. , 1.5],\n",
       "       [6.9, 3.2, 5.7, 2.3],\n",
       "       [5.6, 2.8, 4.9, 2. ],\n",
       "       [7.7, 2.8, 6.7, 2. ],\n",
       "       [6.3, 2.7, 4.9, 1.8],\n",
       "       [6.7, 3.3, 5.7, 2.1],\n",
       "       [7.2, 3.2, 6. , 1.8],\n",
       "       [6.2, 2.8, 4.8, 1.8],\n",
       "       [6.1, 3. , 4.9, 1.8],\n",
       "       [6.4, 2.8, 5.6, 2.1],\n",
       "       [7.2, 3. , 5.8, 1.6],\n",
       "       [7.4, 2.8, 6.1, 1.9],\n",
       "       [7.9, 3.8, 6.4, 2. ],\n",
       "       [6.4, 2.8, 5.6, 2.2],\n",
       "       [6.3, 2.8, 5.1, 1.5],\n",
       "       [6.1, 2.6, 5.6, 1.4],\n",
       "       [7.7, 3. , 6.1, 2.3],\n",
       "       [6.3, 3.4, 5.6, 2.4],\n",
       "       [6.4, 3.1, 5.5, 1.8],\n",
       "       [6. , 3. , 4.8, 1.8],\n",
       "       [6.9, 3.1, 5.4, 2.1],\n",
       "       [6.7, 3.1, 5.6, 2.4],\n",
       "       [6.9, 3.1, 5.1, 2.3],\n",
       "       [5.8, 2.7, 5.1, 1.9],\n",
       "       [6.8, 3.2, 5.9, 2.3],\n",
       "       [6.7, 3.3, 5.7, 2.5],\n",
       "       [6.7, 3. , 5.2, 2.3],\n",
       "       [6.3, 2.5, 5. , 1.9],\n",
       "       [6.5, 3. , 5.2, 2. ],\n",
       "       [6.2, 3.4, 5.4, 2.3],\n",
       "       [5.9, 3. , 5.1, 1.8]])"
      ]
     },
     "execution_count": 4,
     "metadata": {},
     "output_type": "execute_result"
    }
   ],
   "source": [
    "x"
   ]
  },
  {
   "cell_type": "code",
   "execution_count": 5,
   "metadata": {},
   "outputs": [
    {
     "data": {
      "text/plain": [
       "array([0, 0, 0, 0, 0, 0, 0, 0, 0, 0, 0, 0, 0, 0, 0, 0, 0, 0, 0, 0, 0, 0,\n",
       "       0, 0, 0, 0, 0, 0, 0, 0, 0, 0, 0, 0, 0, 0, 0, 0, 0, 0, 0, 0, 0, 0,\n",
       "       0, 0, 0, 0, 0, 0, 1, 1, 1, 1, 1, 1, 1, 1, 1, 1, 1, 1, 1, 1, 1, 1,\n",
       "       1, 1, 1, 1, 1, 1, 1, 1, 1, 1, 1, 1, 1, 1, 1, 1, 1, 1, 1, 1, 1, 1,\n",
       "       1, 1, 1, 1, 1, 1, 1, 1, 1, 1, 1, 1, 2, 2, 2, 2, 2, 2, 2, 2, 2, 2,\n",
       "       2, 2, 2, 2, 2, 2, 2, 2, 2, 2, 2, 2, 2, 2, 2, 2, 2, 2, 2, 2, 2, 2,\n",
       "       2, 2, 2, 2, 2, 2, 2, 2, 2, 2, 2, 2, 2, 2, 2, 2, 2, 2])"
      ]
     },
     "execution_count": 5,
     "metadata": {},
     "output_type": "execute_result"
    }
   ],
   "source": [
    "y"
   ]
  },
  {
   "cell_type": "markdown",
   "metadata": {},
   "source": [
    "# 3. Split the data into training & testing data"
   ]
  },
  {
   "cell_type": "code",
   "execution_count": 7,
   "metadata": {},
   "outputs": [],
   "source": [
    "x_train,x_test,y_train,y_test = train_test_split(x,y,test_size=0.5,random_state=0)"
   ]
  },
  {
   "cell_type": "markdown",
   "metadata": {},
   "source": [
    "# 4. Standardize the data"
   ]
  },
  {
   "cell_type": "code",
   "execution_count": 9,
   "metadata": {},
   "outputs": [],
   "source": [
    "sc = StandardScaler()\n",
    "x_train_std = sc.fit_transform(x_train)\n",
    "x_test_std = sc.fit_transform(x_test)"
   ]
  },
  {
   "cell_type": "code",
   "execution_count": 10,
   "metadata": {},
   "outputs": [
    {
     "data": {
      "text/plain": [
       "array([[-1.37188119,  0.01594752, -1.13425915, -1.17406582],\n",
       "       [ 0.04805953, -0.22326533,  0.75267844,  0.76653884],\n",
       "       [-0.82575014, -1.41932957, -0.34803516, -0.0824757 ],\n",
       "       [-1.37188119,  0.73358607, -1.18667408, -1.05277803],\n",
       "       [ 0.37573816, -2.13696812,  0.43818884,  0.40267547],\n",
       "       [ 1.46800026,  1.21201177,  1.27682777,  1.61555338],\n",
       "       [-0.17039289, -0.46247818,  0.28094404,  0.16009988],\n",
       "       [-1.15342877, -0.22326533, -1.18667408, -1.29535361],\n",
       "       [ 1.35877405, -0.22326533,  1.1719979 ,  1.13040221],\n",
       "       [ 1.14032163,  0.25516037,  1.06716804,  1.37297779],\n",
       "       [ 0.70341679, -0.22326533,  1.11958297,  1.25169   ],\n",
       "       [ 0.59419058, -0.70169103,  1.0147531 ,  1.13040221],\n",
       "       [-0.82575014,  1.69043747, -1.08184422, -1.17406582],\n",
       "       [-1.15342877,  0.73358607, -1.08184422, -1.17406582],\n",
       "       [ 0.70341679,  0.25516037,  0.75267844,  1.00911442],\n",
       "       [ 0.92186921,  0.49437322,  1.06716804,  1.13040221],\n",
       "       [-1.4811074 , -1.89775527, -1.23908902, -1.05277803],\n",
       "       [ 0.37573816,  0.73358607,  0.90992324,  1.37297779],\n",
       "       [-1.04420256, -0.22326533, -1.18667408, -1.17406582],\n",
       "       [-0.17039289, -1.41932957,  0.70026351,  1.00911442],\n",
       "       [ 1.14032163,  0.01594752,  0.90992324,  1.13040221],\n",
       "       [-1.59033361,  0.25516037, -1.23908902, -1.17406582],\n",
       "       [-0.93497635,  1.21201177, -1.18667408, -1.17406582],\n",
       "       [ 1.46800026, -0.22326533,  1.11958297,  0.52396326],\n",
       "       [-0.82575014,  0.97279892, -1.18667408, -1.05277803],\n",
       "       [-1.59033361, -0.22326533, -1.23908902, -1.17406582],\n",
       "       [-0.49807152,  1.92965032, -1.02942928, -0.93149023],\n",
       "       [-0.38884531, -1.89775527,  0.17611417,  0.16009988],\n",
       "       [ 1.03109542,  0.25516037,  1.1719979 ,  1.37297779],\n",
       "       [ 1.90490509, -0.22326533,  1.53890243,  1.13040221],\n",
       "       [-0.82575014,  0.97279892, -1.18667408, -1.17406582],\n",
       "       [-1.04420256,  0.01594752, -1.13425915, -1.17406582],\n",
       "       [-0.71652393,  0.73358607, -1.18667408, -1.17406582],\n",
       "       [-0.17039289, -0.70169103,  0.43818884,  0.16009988],\n",
       "       [ 0.812643  , -0.22326533,  0.38577391,  0.28138768],\n",
       "       [-0.93497635,  0.25516037, -1.29150395, -1.17406582],\n",
       "       [-0.82575014,  0.49437322, -1.02942928, -0.81020244],\n",
       "       [ 0.59419058, -0.46247818,  0.33335897,  0.16009988],\n",
       "       [-0.49807152,  0.73358607, -1.13425915, -0.93149023],\n",
       "       [ 2.0141313 , -1.18011672,  1.69614723,  1.37297779],\n",
       "       [-1.04420256, -1.65854242, -0.19079036, -0.20376349],\n",
       "       [ 2.23258372,  1.69043747,  1.43407257,  1.00911442],\n",
       "       [ 0.92186921,  0.01594752,  0.38577391,  0.28138768],\n",
       "       [-0.71652393,  2.40807602, -1.13425915, -1.29535361],\n",
       "       [ 0.15728574, -0.22326533,  0.59543364,  0.76653884],\n",
       "       [-0.06116668,  2.16886317, -1.29150395, -1.17406582],\n",
       "       [ 2.0141313 , -0.70169103,  1.59131737,  1.00911442],\n",
       "       [-0.82575014,  1.69043747, -1.13425915, -1.05277803],\n",
       "       [-1.26265498,  0.25516037, -1.08184422, -1.17406582],\n",
       "       [ 1.68645268, -0.70169103,  1.27682777,  0.88782663],\n",
       "       [-0.93497635,  0.49437322, -1.18667408, -1.17406582],\n",
       "       [ 0.48496437,  0.73358607,  1.0147531 ,  1.49426558],\n",
       "       [-0.17039289, -0.70169103,  0.22852911,  0.16009988],\n",
       "       [-0.06116668, -0.94090387,  0.12369924,  0.03881209],\n",
       "       [-0.17039289, -1.18011672, -0.08596049, -0.20376349],\n",
       "       [ 0.59419058,  0.25516037,  0.8575083 ,  1.37297779],\n",
       "       [ 0.92186921, -0.22326533,  0.80509337,  1.37297779],\n",
       "       [ 0.48496437, -1.41932957,  0.64784857,  0.40267547],\n",
       "       [ 0.92186921, -0.22326533,  0.70026351,  0.64525105],\n",
       "       [-0.93497635, -0.22326533, -1.08184422, -1.17406582],\n",
       "       [-0.38884531, -1.65854242,  0.01886938, -0.20376349],\n",
       "       [ 0.92186921,  0.01594752,  1.0147531 ,  1.49426558],\n",
       "       [-0.06116668, -0.94090387,  0.75267844,  0.88782663],\n",
       "       [-0.82575014,  0.73358607, -1.13425915, -1.17406582],\n",
       "       [ 0.812643  , -0.46247818,  0.49060377,  0.16009988],\n",
       "       [-0.2796191 , -0.22326533,  0.22852911,  0.16009988],\n",
       "       [ 0.04805953,  0.25516037,  0.59543364,  0.76653884],\n",
       "       [ 0.48496437, -1.89775527,  0.38577391,  0.16009988],\n",
       "       [-0.38884531,  0.97279892, -1.23908902, -1.17406582],\n",
       "       [-0.82575014,  1.45122462, -1.13425915, -0.93149023],\n",
       "       [-1.04420256,  0.01594752, -1.13425915, -1.29535361],\n",
       "       [ 0.48496437, -0.46247818,  1.0147531 ,  0.76653884],\n",
       "       [-0.06116668, -0.94090387,  0.22852911, -0.20376349],\n",
       "       [ 2.0141313 ,  1.69043747,  1.59131737,  1.25169   ],\n",
       "       [-1.37188119,  0.25516037, -1.18667408, -1.17406582]])"
      ]
     },
     "execution_count": 10,
     "metadata": {},
     "output_type": "execute_result"
    }
   ],
   "source": [
    "x_train_std"
   ]
  },
  {
   "cell_type": "code",
   "execution_count": 11,
   "metadata": {},
   "outputs": [
    {
     "data": {
      "text/plain": [
       "array([[-0.04237546, -0.49481962,  0.78407966,  1.70108248],\n",
       "       [ 0.23398623, -1.83619812,  0.09298381, -0.33556131],\n",
       "       [-0.45691799,  2.63506354, -1.54051549, -1.49935777],\n",
       "       [ 2.0303372 , -0.27125654,  1.53800241,  0.82823514],\n",
       "       [-1.14782221,  0.84655887, -1.47768859, -1.49935777],\n",
       "       [ 0.64852876,  0.62299579,  1.34952172,  1.84655704],\n",
       "       [-1.14782221,  1.07012196, -1.60334238, -1.35388321],\n",
       "       [ 1.20125214,  0.17586963,  0.53277208,  0.39181147],\n",
       "       [ 1.33943298, -0.49481962,  0.59559897,  0.24633692],\n",
       "       [ 0.37216707, -0.49481962,  0.09298381,  0.10086236],\n",
       "       [ 0.37216707, -0.94194579,  1.09821414,  0.24633692],\n",
       "       [ 0.7867096 ,  0.39943271,  0.40711829,  0.39181147],\n",
       "       [ 0.37216707, -0.49481962,  0.53277208, -0.0446122 ],\n",
       "       [ 0.92489045, -0.49481962,  0.46994518,  0.39181147],\n",
       "       [ 0.37216707, -0.27125654,  0.53277208,  0.24633692],\n",
       "       [-1.28600305,  1.29368504, -1.54051549, -1.64483232],\n",
       "       [ 0.23398623, -0.27125654,  0.40711829,  0.39181147],\n",
       "       [-0.45691799, -0.94194579,  0.34429139, -0.0446122 ],\n",
       "       [-1.4241839 , -0.04769346, -1.54051549, -1.35388321],\n",
       "       [-0.59509883,  1.96437429, -1.60334238, -1.20840865],\n",
       "       [-0.31873715, -0.49481962,  0.65842587,  1.11918426],\n",
       "       [-0.31873715, -0.04769346,  0.40711829,  0.39181147],\n",
       "       [-1.4241839 ,  0.84655887, -1.22638101, -1.49935777],\n",
       "       [-1.97690727, -0.27125654, -1.54051549, -1.49935777],\n",
       "       [ 0.51034792, -0.49481962,  0.59559897,  0.82823514],\n",
       "       [-1.70054558,  1.29368504, -1.79182307, -1.49935777],\n",
       "       [-1.00964137,  1.74081121, -1.22638101, -1.20840865],\n",
       "       [ 0.51034792, -0.27125654,  0.28146449,  0.10086236],\n",
       "       [-1.14782221, -1.61263504, -0.34680447, -0.33556131],\n",
       "       [-1.14782221,  0.84655887, -1.41486169, -1.20840865],\n",
       "       [ 0.7867096 ,  0.17586963,  1.03538724,  0.82823514],\n",
       "       [-0.59509883, -0.04769346,  0.40711829,  0.39181147],\n",
       "       [-0.87146052,  1.07012196, -1.47768859, -1.49935777],\n",
       "       [ 0.37216707, -0.04769346,  0.65842587,  0.82823514],\n",
       "       [ 0.7867096 , -0.49481962,  1.09821414,  1.41013337],\n",
       "       [-0.87146052, -0.71838271,  0.03015691,  0.24633692],\n",
       "       [-0.1805563 ,  1.74081121, -1.3520348 , -1.35388321],\n",
       "       [ 0.23398623, -0.71838271,  0.78407966,  0.53728603],\n",
       "       [ 0.09580539, -0.04769346,  0.2186376 ,  0.39181147],\n",
       "       [-0.04237546, -0.94194579,  0.09298381, -0.0446122 ],\n",
       "       [ 1.33943298, -0.04769346,  1.03538724,  1.26465881],\n",
       "       [-1.56236474,  0.39943271, -1.60334238, -1.49935777],\n",
       "       [ 1.47761382,  0.17586963,  0.78407966,  1.55560793],\n",
       "       [-1.14782221,  1.07012196, -1.41486169, -0.91745954],\n",
       "       [-0.59509883,  1.51724812, -1.47768859, -1.49935777],\n",
       "       [-1.14782221, -2.28332429, -0.22115067, -0.33556131],\n",
       "       [ 0.92489045, -0.04769346,  1.03538724,  0.82823514],\n",
       "       [ 1.20125214,  0.62299579,  1.16104104,  1.84655704],\n",
       "       [ 0.23398623, -1.83619812,  0.72125276,  0.39181147],\n",
       "       [ 1.20125214, -1.16550887,  1.22386793,  0.82823514],\n",
       "       [-0.31873715, -1.16550887,  0.03015691, -0.19008675],\n",
       "       [ 2.58306057, -0.04769346,  1.41234862,  1.55560793],\n",
       "       [ 0.64852876,  0.62299579,  0.53277208,  0.53728603],\n",
       "       [-0.45691799, -1.38907196, -0.03266999, -0.19008675],\n",
       "       [ 0.64852876, -0.71838271,  0.65842587,  0.82823514],\n",
       "       [ 0.64852876, -0.49481962,  0.78407966,  0.39181147],\n",
       "       [-1.28600305, -1.16550887,  0.40711829,  0.68276059],\n",
       "       [ 0.64852876, -1.16550887,  0.72125276,  0.9737097 ],\n",
       "       [ 1.61579467,  0.39943271,  0.53277208,  0.24633692],\n",
       "       [ 0.92489045, -0.04769346,  0.84690656,  1.11918426],\n",
       "       [ 0.23398623,  0.84655887,  0.40711829,  0.53728603],\n",
       "       [-1.4241839 ,  0.17586963, -1.41486169, -1.49935777],\n",
       "       [-0.04237546, -0.71838271,  0.78407966,  0.9737097 ],\n",
       "       [-0.31873715, -0.71838271,  0.2186376 ,  0.10086236],\n",
       "       [-0.31873715, -0.27125654, -0.15832378,  0.10086236],\n",
       "       [-0.45691799, -1.16550887,  0.09298381,  0.10086236],\n",
       "       [ 0.37216707, -0.04769346,  0.46994518,  0.24633692],\n",
       "       [ 1.89215636,  0.39943271,  1.34952172,  0.82823514],\n",
       "       [-0.73327968,  1.51724812, -1.47768859, -1.49935777],\n",
       "       [-2.11508812, -0.04769346, -1.72899617, -1.64483232],\n",
       "       [ 0.7867096 , -0.71838271,  0.90973345,  0.9737097 ],\n",
       "       [-0.1805563 , -0.04769346,  0.2186376 , -0.0446122 ],\n",
       "       [-0.59509883,  0.84655887, -1.3520348 , -1.49935777],\n",
       "       [-0.1805563 ,  3.0821897 , -1.47768859, -1.20840865],\n",
       "       [ 1.47761382,  0.17586963,  0.65842587,  0.39181147]])"
      ]
     },
     "execution_count": 11,
     "metadata": {},
     "output_type": "execute_result"
    }
   ],
   "source": [
    "x_test_std"
   ]
  },
  {
   "cell_type": "markdown",
   "metadata": {},
   "source": [
    "# 5. choose algo & set the hyperparameters"
   ]
  },
  {
   "cell_type": "code",
   "execution_count": 14,
   "metadata": {},
   "outputs": [],
   "source": [
    "tree = DecisionTreeClassifier(criterion='entropy',max_depth=3,random_state=0)"
   ]
  },
  {
   "cell_type": "markdown",
   "metadata": {},
   "source": [
    "# 6. Train the model"
   ]
  },
  {
   "cell_type": "code",
   "execution_count": 15,
   "metadata": {},
   "outputs": [
    {
     "data": {
      "text/plain": [
       "DecisionTreeClassifier(class_weight=None, criterion='entropy', max_depth=3,\n",
       "                       max_features=None, max_leaf_nodes=None,\n",
       "                       min_impurity_decrease=0.0, min_impurity_split=None,\n",
       "                       min_samples_leaf=1, min_samples_split=2,\n",
       "                       min_weight_fraction_leaf=0.0, presort=False,\n",
       "                       random_state=0, splitter='best')"
      ]
     },
     "execution_count": 15,
     "metadata": {},
     "output_type": "execute_result"
    }
   ],
   "source": [
    "tree.fit(x_train_std,y_train)"
   ]
  },
  {
   "cell_type": "markdown",
   "metadata": {},
   "source": [
    "# 7. Make the prediction using the model"
   ]
  },
  {
   "cell_type": "code",
   "execution_count": 16,
   "metadata": {},
   "outputs": [],
   "source": [
    "y_pred= tree.predict(x_test_std)"
   ]
  },
  {
   "cell_type": "code",
   "execution_count": 20,
   "metadata": {},
   "outputs": [
    {
     "data": {
      "text/plain": [
       "array([2, 1, 0, 2, 0, 2, 0, 1, 1, 1, 2, 1, 1, 1, 1, 0, 1, 1, 0, 0, 2, 1,\n",
       "       0, 0, 2, 0, 0, 1, 1, 0, 2, 1, 0, 2, 2, 1, 0, 2, 1, 1, 2, 0, 2, 0,\n",
       "       0, 1, 2, 2, 1, 2, 1, 2, 1, 1, 2, 2, 1, 2, 1, 2, 1, 0, 2, 1, 1, 1,\n",
       "       1, 2, 0, 0, 2, 1, 0, 0, 1])"
      ]
     },
     "execution_count": 20,
     "metadata": {},
     "output_type": "execute_result"
    }
   ],
   "source": [
    "y_pred"
   ]
  },
  {
   "cell_type": "code",
   "execution_count": 54,
   "metadata": {},
   "outputs": [
    {
     "name": "stdout",
     "output_type": "stream",
     "text": [
      "wrong prediction out of total:\n",
      "75 / 75\n"
     ]
    }
   ],
   "source": [
    "print('wrong prediction out of total:')\n",
    "print((y_test!=y_pred).sum(),'/',((y_test==y_pred).sum()+(y_test!=y_pred).sum()))"
   ]
  },
  {
   "cell_type": "code",
   "execution_count": 24,
   "metadata": {},
   "outputs": [
    {
     "name": "stdout",
     "output_type": "stream",
     "text": [
      "percentage accuracy: 96.0\n"
     ]
    }
   ],
   "source": [
    "print('percentage accuracy:',100*accuracy_score(y_test,y_pred))"
   ]
  },
  {
   "cell_type": "code",
   "execution_count": 26,
   "metadata": {},
   "outputs": [],
   "source": [
    "#confusion matrix\n",
    "from sklearn.metrics import confusion_matrix"
   ]
  },
  {
   "cell_type": "code",
   "execution_count": 27,
   "metadata": {},
   "outputs": [
    {
     "data": {
      "text/plain": [
       "array([[21,  0,  0],\n",
       "       [ 0, 29,  1],\n",
       "       [ 0,  2, 22]], dtype=int64)"
      ]
     },
     "execution_count": 27,
     "metadata": {},
     "output_type": "execute_result"
    }
   ],
   "source": [
    "c_m = confusion_matrix(y_test,y_pred)\n",
    "c_m"
   ]
  },
  {
   "cell_type": "markdown",
   "metadata": {},
   "source": [
    "# how to find out misclassified samples:"
   ]
  },
  {
   "cell_type": "code",
   "execution_count": 28,
   "metadata": {},
   "outputs": [
    {
     "data": {
      "text/plain": [
       "(array([37, 48, 56], dtype=int64),)"
      ]
     },
     "execution_count": 28,
     "metadata": {},
     "output_type": "execute_result"
    }
   ],
   "source": [
    "import numpy as np\n",
    "np.where(y_pred!=y_test)"
   ]
  },
  {
   "cell_type": "code",
   "execution_count": 29,
   "metadata": {},
   "outputs": [
    {
     "data": {
      "text/plain": [
       "2"
      ]
     },
     "execution_count": 29,
     "metadata": {},
     "output_type": "execute_result"
    }
   ],
   "source": [
    "y_pred[37]"
   ]
  },
  {
   "cell_type": "code",
   "execution_count": 30,
   "metadata": {},
   "outputs": [
    {
     "data": {
      "text/plain": [
       "1"
      ]
     },
     "execution_count": 30,
     "metadata": {},
     "output_type": "execute_result"
    }
   ],
   "source": [
    "y_test[37]"
   ]
  },
  {
   "cell_type": "code",
   "execution_count": 31,
   "metadata": {},
   "outputs": [
    {
     "data": {
      "text/plain": [
       "1"
      ]
     },
     "execution_count": 31,
     "metadata": {},
     "output_type": "execute_result"
    }
   ],
   "source": [
    "y_pred[48]"
   ]
  },
  {
   "cell_type": "code",
   "execution_count": 32,
   "metadata": {},
   "outputs": [
    {
     "data": {
      "text/plain": [
       "2"
      ]
     },
     "execution_count": 32,
     "metadata": {},
     "output_type": "execute_result"
    }
   ],
   "source": [
    "y_test[48]"
   ]
  },
  {
   "cell_type": "code",
   "execution_count": 33,
   "metadata": {},
   "outputs": [
    {
     "data": {
      "text/plain": [
       "1"
      ]
     },
     "execution_count": 33,
     "metadata": {},
     "output_type": "execute_result"
    }
   ],
   "source": [
    "y_pred[56]"
   ]
  },
  {
   "cell_type": "code",
   "execution_count": 34,
   "metadata": {},
   "outputs": [
    {
     "data": {
      "text/plain": [
       "2"
      ]
     },
     "execution_count": 34,
     "metadata": {},
     "output_type": "execute_result"
    }
   ],
   "source": [
    "y_test[56]"
   ]
  },
  {
   "cell_type": "code",
   "execution_count": null,
   "metadata": {},
   "outputs": [],
   "source": []
  },
  {
   "cell_type": "code",
   "execution_count": null,
   "metadata": {},
   "outputs": [],
   "source": []
  },
  {
   "cell_type": "code",
   "execution_count": null,
   "metadata": {},
   "outputs": [],
   "source": []
  },
  {
   "cell_type": "code",
   "execution_count": null,
   "metadata": {},
   "outputs": [],
   "source": []
  },
  {
   "cell_type": "code",
   "execution_count": null,
   "metadata": {},
   "outputs": [],
   "source": []
  },
  {
   "cell_type": "markdown",
   "metadata": {},
   "source": [
    "# decision tree classifer for regression problem"
   ]
  },
  {
   "cell_type": "code",
   "execution_count": 35,
   "metadata": {},
   "outputs": [],
   "source": [
    "import numpy as np\n",
    "import pandas as pd\n",
    "import matplotlib.pyplot as plt"
   ]
  },
  {
   "cell_type": "code",
   "execution_count": 38,
   "metadata": {},
   "outputs": [
    {
     "data": {
      "text/html": [
       "<div>\n",
       "<style scoped>\n",
       "    .dataframe tbody tr th:only-of-type {\n",
       "        vertical-align: middle;\n",
       "    }\n",
       "\n",
       "    .dataframe tbody tr th {\n",
       "        vertical-align: top;\n",
       "    }\n",
       "\n",
       "    .dataframe thead th {\n",
       "        text-align: right;\n",
       "    }\n",
       "</style>\n",
       "<table border=\"1\" class=\"dataframe\">\n",
       "  <thead>\n",
       "    <tr style=\"text-align: right;\">\n",
       "      <th></th>\n",
       "      <th>Position</th>\n",
       "      <th>Level</th>\n",
       "      <th>Salary</th>\n",
       "    </tr>\n",
       "  </thead>\n",
       "  <tbody>\n",
       "    <tr>\n",
       "      <th>0</th>\n",
       "      <td>Business Analyst</td>\n",
       "      <td>1</td>\n",
       "      <td>45000</td>\n",
       "    </tr>\n",
       "    <tr>\n",
       "      <th>1</th>\n",
       "      <td>Junior Consultant</td>\n",
       "      <td>2</td>\n",
       "      <td>50000</td>\n",
       "    </tr>\n",
       "    <tr>\n",
       "      <th>2</th>\n",
       "      <td>Senior Consultant</td>\n",
       "      <td>3</td>\n",
       "      <td>60000</td>\n",
       "    </tr>\n",
       "    <tr>\n",
       "      <th>3</th>\n",
       "      <td>Manager</td>\n",
       "      <td>4</td>\n",
       "      <td>80000</td>\n",
       "    </tr>\n",
       "    <tr>\n",
       "      <th>4</th>\n",
       "      <td>Country Manager</td>\n",
       "      <td>5</td>\n",
       "      <td>110000</td>\n",
       "    </tr>\n",
       "  </tbody>\n",
       "</table>\n",
       "</div>"
      ],
      "text/plain": [
       "            Position  Level  Salary\n",
       "0   Business Analyst      1   45000\n",
       "1  Junior Consultant      2   50000\n",
       "2  Senior Consultant      3   60000\n",
       "3            Manager      4   80000\n",
       "4    Country Manager      5  110000"
      ]
     },
     "execution_count": 38,
     "metadata": {},
     "output_type": "execute_result"
    }
   ],
   "source": [
    "data= pd.read_csv('dataset\\position_salaries.csv')\n",
    "data.head()"
   ]
  },
  {
   "cell_type": "code",
   "execution_count": 40,
   "metadata": {},
   "outputs": [],
   "source": [
    "x= data.iloc[:,1:2].values\n",
    "y= data.iloc[:,2].values"
   ]
  },
  {
   "cell_type": "code",
   "execution_count": 41,
   "metadata": {},
   "outputs": [
    {
     "data": {
      "text/plain": [
       "array([[ 1],\n",
       "       [ 2],\n",
       "       [ 3],\n",
       "       [ 4],\n",
       "       [ 5],\n",
       "       [ 6],\n",
       "       [ 7],\n",
       "       [ 8],\n",
       "       [ 9],\n",
       "       [10]], dtype=int64)"
      ]
     },
     "execution_count": 41,
     "metadata": {},
     "output_type": "execute_result"
    }
   ],
   "source": [
    "x"
   ]
  },
  {
   "cell_type": "code",
   "execution_count": 42,
   "metadata": {},
   "outputs": [
    {
     "data": {
      "text/plain": [
       "array([  45000,   50000,   60000,   80000,  110000,  150000,  200000,\n",
       "        300000,  500000, 1000000], dtype=int64)"
      ]
     },
     "execution_count": 42,
     "metadata": {},
     "output_type": "execute_result"
    }
   ],
   "source": [
    "y"
   ]
  },
  {
   "cell_type": "code",
   "execution_count": 43,
   "metadata": {},
   "outputs": [],
   "source": [
    "# no split data training &testing because dataset is very small....."
   ]
  },
  {
   "cell_type": "code",
   "execution_count": 44,
   "metadata": {},
   "outputs": [],
   "source": [
    "from sklearn.tree import DecisionTreeRegressor"
   ]
  },
  {
   "cell_type": "code",
   "execution_count": 46,
   "metadata": {},
   "outputs": [],
   "source": [
    "reg = DecisionTreeRegressor(random_state=0)"
   ]
  },
  {
   "cell_type": "code",
   "execution_count": 47,
   "metadata": {},
   "outputs": [
    {
     "data": {
      "text/plain": [
       "DecisionTreeRegressor(criterion='mse', max_depth=None, max_features=None,\n",
       "                      max_leaf_nodes=None, min_impurity_decrease=0.0,\n",
       "                      min_impurity_split=None, min_samples_leaf=1,\n",
       "                      min_samples_split=2, min_weight_fraction_leaf=0.0,\n",
       "                      presort=False, random_state=0, splitter='best')"
      ]
     },
     "execution_count": 47,
     "metadata": {},
     "output_type": "execute_result"
    }
   ],
   "source": [
    "reg.fit(x,y)"
   ]
  },
  {
   "cell_type": "code",
   "execution_count": 49,
   "metadata": {},
   "outputs": [
    {
     "data": {
      "text/plain": [
       "array([110000.])"
      ]
     },
     "execution_count": 49,
     "metadata": {},
     "output_type": "execute_result"
    }
   ],
   "source": [
    "y_pred = reg.predict([[5]])\n",
    "y_pred"
   ]
  },
  {
   "cell_type": "code",
   "execution_count": 50,
   "metadata": {},
   "outputs": [
    {
     "data": {
      "text/plain": [
       "150000"
      ]
     },
     "execution_count": 50,
     "metadata": {},
     "output_type": "execute_result"
    }
   ],
   "source": [
    "y[5]"
   ]
  },
  {
   "cell_type": "code",
   "execution_count": 51,
   "metadata": {},
   "outputs": [],
   "source": [
    "#plotting data"
   ]
  },
  {
   "cell_type": "code",
   "execution_count": 53,
   "metadata": {},
   "outputs": [
    {
     "data": {
      "image/png": "[encoded data removed]",
      "text/plain": [
       "<Figure size 432x288 with 1 Axes>"
      ]
     },
     "metadata": {
      "needs_background": "light"
     },
     "output_type": "display_data"
    }
   ],
   "source": [
    "x_grid = np.arange(min(x),max(x),0.01)\n",
    "x_grid = x_grid.reshape((len(x_grid),1))\n",
    "plt.scatter(x,y,color='green')\n",
    "plt.plot(x_grid,reg.predict(x_grid),color='blue')\n",
    "plt.title('Decision Tree Regeressor')\n",
    "plt.xlabel('pos level')\n",
    "plt.ylabel('salary')\n",
    "plt.show()"
   ]
  },
  {
   "cell_type": "code",
   "execution_count": null,
   "metadata": {},
   "outputs": [],
   "source": []
  },
  {
   "cell_type": "code",
   "execution_count": null,
   "metadata": {},
   "outputs": [],
   "source": []
  }
 ],
 "metadata": {
  "kernelspec": {
   "display_name": "Python 3",
   "language": "python",
   "name": "python3"
  },
  "language_info": {
   "codemirror_mode": {
    "name": "ipython",
    "version": 3
   },
   "file_extension": ".py",
   "mimetype": "text/x-python",
   "name": "python",
   "nbconvert_exporter": "python",
   "pygments_lexer": "ipython3",
   "version": "3.7.3"
  }
 },
 "nbformat": 4,
 "nbformat_minor": 2
}
