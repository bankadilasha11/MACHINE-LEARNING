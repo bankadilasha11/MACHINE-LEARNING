{
  "nbformat": 4,
  "nbformat_minor": 0,
  "metadata": {
    "colab": {
      "name": "Untitled3.ipynb",
      "provenance": [],
      "authorship_tag": "ABX9TyNvHDyWWoqU89+5iOEXFlsY",
      "include_colab_link": true
    },
    "kernelspec": {
      "name": "python3",
      "display_name": "Python 3"
    }
  },
  "cells": [
    {
      "cell_type": "markdown",
      "metadata": {
        "id": "view-in-github",
        "colab_type": "text"
      },
      "source": [
        "<a href=\"https://colab.research.google.com/github/bankadilasha11/MACHINE-LEARNING/blob/master/fake_or_real_news.ipynb\" target=\"_parent\"><img src=\"https://colab.research.google.com/assets/colab-badge.svg\" alt=\"Open In Colab\"/></a>"
      ]
    },
    {
      "cell_type": "code",
      "metadata": {
        "id": "Tbq9LeFNeFik",
        "colab_type": "code",
        "colab": {}
      },
      "source": [
        "import pandas as pd\n",
        "from sklearn.model_selection import train_test_split\n",
        "import sklearn\n",
        "from sklearn.feature_extraction.text import CountVectorizer\n",
        "from sklearn.feature_extraction.text import TfidfVectorizer\n",
        "from sklearn.naive_bayes import MultinomialNB\n",
        "from sklearn import metrics\n",
        "from matplotlib import pyplot as plt\n",
        "from sklearn.linear_model import PassiveAggressiveClassifier\n",
        "from sklearn.feature_extraction.text import HashingVectorizer\n",
        "import itertools\n",
        "import numpy as np"
      ],
      "execution_count": 18,
      "outputs": []
    },
    {
      "cell_type": "code",
      "metadata": {
        "id": "0SENMBLVeLln",
        "colab_type": "code",
        "colab": {}
      },
      "source": [
        "df = pd.read_csv(\"fake_or_real_news.csv\")"
      ],
      "execution_count": 22,
      "outputs": []
    },
    {
      "cell_type": "code",
      "metadata": {
        "id": "7C9z53lleXXd",
        "colab_type": "code",
        "colab": {
          "base_uri": "https://localhost:8080/",
          "height": 204
        },
        "outputId": "9c67e789-0cf1-4537-a882-7d0a98dc78b9"
      },
      "source": [
        "df.head()"
      ],
      "execution_count": 23,
      "outputs": [
        {
          "output_type": "execute_result",
          "data": {
            "text/html": [
              "<div>\n",
              "<style scoped>\n",
              "    .dataframe tbody tr th:only-of-type {\n",
              "        vertical-align: middle;\n",
              "    }\n",
              "\n",
              "    .dataframe tbody tr th {\n",
              "        vertical-align: top;\n",
              "    }\n",
              "\n",
              "    .dataframe thead th {\n",
              "        text-align: right;\n",
              "    }\n",
              "</style>\n",
              "<table border=\"1\" class=\"dataframe\">\n",
              "  <thead>\n",
              "    <tr style=\"text-align: right;\">\n",
              "      <th></th>\n",
              "      <th>Unnamed: 0</th>\n",
              "      <th>title</th>\n",
              "      <th>text</th>\n",
              "      <th>label</th>\n",
              "    </tr>\n",
              "  </thead>\n",
              "  <tbody>\n",
              "    <tr>\n",
              "      <th>0</th>\n",
              "      <td>8476</td>\n",
              "      <td>You Can Smell Hillary’s Fear</td>\n",
              "      <td>Daniel Greenfield, a Shillman Journalism Fello...</td>\n",
              "      <td>FAKE</td>\n",
              "    </tr>\n",
              "    <tr>\n",
              "      <th>1</th>\n",
              "      <td>10294</td>\n",
              "      <td>Watch The Exact Moment Paul Ryan Committed Pol...</td>\n",
              "      <td>Google Pinterest Digg Linkedin Reddit Stumbleu...</td>\n",
              "      <td>FAKE</td>\n",
              "    </tr>\n",
              "    <tr>\n",
              "      <th>2</th>\n",
              "      <td>3608</td>\n",
              "      <td>Kerry to go to Paris in gesture of sympathy</td>\n",
              "      <td>U.S. Secretary of State John F. Kerry said Mon...</td>\n",
              "      <td>REAL</td>\n",
              "    </tr>\n",
              "    <tr>\n",
              "      <th>3</th>\n",
              "      <td>10142</td>\n",
              "      <td>Bernie supporters on Twitter erupt in anger ag...</td>\n",
              "      <td>— Kaydee King (@KaydeeKing) November 9, 2016 T...</td>\n",
              "      <td>FAKE</td>\n",
              "    </tr>\n",
              "    <tr>\n",
              "      <th>4</th>\n",
              "      <td>875</td>\n",
              "      <td>The Battle of New York: Why This Primary Matters</td>\n",
              "      <td>It's primary day in New York and front-runners...</td>\n",
              "      <td>REAL</td>\n",
              "    </tr>\n",
              "  </tbody>\n",
              "</table>\n",
              "</div>"
            ],
            "text/plain": [
              "   Unnamed: 0  ... label\n",
              "0        8476  ...  FAKE\n",
              "1       10294  ...  FAKE\n",
              "2        3608  ...  REAL\n",
              "3       10142  ...  FAKE\n",
              "4         875  ...  REAL\n",
              "\n",
              "[5 rows x 4 columns]"
            ]
          },
          "metadata": {
            "tags": []
          },
          "execution_count": 23
        }
      ]
    },
    {
      "cell_type": "code",
      "metadata": {
        "id": "lkc6OEaNiy12",
        "colab_type": "code",
        "colab": {
          "base_uri": "https://localhost:8080/",
          "height": 34
        },
        "outputId": "6f3307ef-313c-43a3-f9e8-3e0c48b9fc07"
      },
      "source": [
        "df.shape"
      ],
      "execution_count": 24,
      "outputs": [
        {
          "output_type": "execute_result",
          "data": {
            "text/plain": [
              "(6335, 4)"
            ]
          },
          "metadata": {
            "tags": []
          },
          "execution_count": 24
        }
      ]
    },
    {
      "cell_type": "code",
      "metadata": {
        "id": "YDzQ8-bwi6fl",
        "colab_type": "code",
        "colab": {}
      },
      "source": [
        "df = df.set_index(\"Unnamed: 0\")"
      ],
      "execution_count": 25,
      "outputs": []
    },
    {
      "cell_type": "code",
      "metadata": {
        "id": "V57TlvGDi_w4",
        "colab_type": "code",
        "colab": {
          "base_uri": "https://localhost:8080/",
          "height": 235
        },
        "outputId": "39a3ae53-dc9c-41c0-c796-d9400d64f6f9"
      },
      "source": [
        "df.head()"
      ],
      "execution_count": 26,
      "outputs": [
        {
          "output_type": "execute_result",
          "data": {
            "text/html": [
              "<div>\n",
              "<style scoped>\n",
              "    .dataframe tbody tr th:only-of-type {\n",
              "        vertical-align: middle;\n",
              "    }\n",
              "\n",
              "    .dataframe tbody tr th {\n",
              "        vertical-align: top;\n",
              "    }\n",
              "\n",
              "    .dataframe thead th {\n",
              "        text-align: right;\n",
              "    }\n",
              "</style>\n",
              "<table border=\"1\" class=\"dataframe\">\n",
              "  <thead>\n",
              "    <tr style=\"text-align: right;\">\n",
              "      <th></th>\n",
              "      <th>title</th>\n",
              "      <th>text</th>\n",
              "      <th>label</th>\n",
              "    </tr>\n",
              "    <tr>\n",
              "      <th>Unnamed: 0</th>\n",
              "      <th></th>\n",
              "      <th></th>\n",
              "      <th></th>\n",
              "    </tr>\n",
              "  </thead>\n",
              "  <tbody>\n",
              "    <tr>\n",
              "      <th>8476</th>\n",
              "      <td>You Can Smell Hillary’s Fear</td>\n",
              "      <td>Daniel Greenfield, a Shillman Journalism Fello...</td>\n",
              "      <td>FAKE</td>\n",
              "    </tr>\n",
              "    <tr>\n",
              "      <th>10294</th>\n",
              "      <td>Watch The Exact Moment Paul Ryan Committed Pol...</td>\n",
              "      <td>Google Pinterest Digg Linkedin Reddit Stumbleu...</td>\n",
              "      <td>FAKE</td>\n",
              "    </tr>\n",
              "    <tr>\n",
              "      <th>3608</th>\n",
              "      <td>Kerry to go to Paris in gesture of sympathy</td>\n",
              "      <td>U.S. Secretary of State John F. Kerry said Mon...</td>\n",
              "      <td>REAL</td>\n",
              "    </tr>\n",
              "    <tr>\n",
              "      <th>10142</th>\n",
              "      <td>Bernie supporters on Twitter erupt in anger ag...</td>\n",
              "      <td>— Kaydee King (@KaydeeKing) November 9, 2016 T...</td>\n",
              "      <td>FAKE</td>\n",
              "    </tr>\n",
              "    <tr>\n",
              "      <th>875</th>\n",
              "      <td>The Battle of New York: Why This Primary Matters</td>\n",
              "      <td>It's primary day in New York and front-runners...</td>\n",
              "      <td>REAL</td>\n",
              "    </tr>\n",
              "  </tbody>\n",
              "</table>\n",
              "</div>"
            ],
            "text/plain": [
              "                                                        title  ... label\n",
              "Unnamed: 0                                                     ...      \n",
              "8476                             You Can Smell Hillary’s Fear  ...  FAKE\n",
              "10294       Watch The Exact Moment Paul Ryan Committed Pol...  ...  FAKE\n",
              "3608              Kerry to go to Paris in gesture of sympathy  ...  REAL\n",
              "10142       Bernie supporters on Twitter erupt in anger ag...  ...  FAKE\n",
              "875          The Battle of New York: Why This Primary Matters  ...  REAL\n",
              "\n",
              "[5 rows x 3 columns]"
            ]
          },
          "metadata": {
            "tags": []
          },
          "execution_count": 26
        }
      ]
    },
    {
      "cell_type": "code",
      "metadata": {
        "id": "ag6RjTeljBMV",
        "colab_type": "code",
        "colab": {}
      },
      "source": [
        "y=df.label"
      ],
      "execution_count": 27,
      "outputs": []
    },
    {
      "cell_type": "code",
      "metadata": {
        "id": "mVl8ThIUjSW7",
        "colab_type": "code",
        "colab": {
          "base_uri": "https://localhost:8080/",
          "height": 450
        },
        "outputId": "6d7269d4-d614-4036-dbf8-5d9fd894455c"
      },
      "source": [
        "df.drop(\"label\", axis=1)      #where numbering of news article is done that column is dropped in dataset"
      ],
      "execution_count": 28,
      "outputs": [
        {
          "output_type": "execute_result",
          "data": {
            "text/html": [
              "<div>\n",
              "<style scoped>\n",
              "    .dataframe tbody tr th:only-of-type {\n",
              "        vertical-align: middle;\n",
              "    }\n",
              "\n",
              "    .dataframe tbody tr th {\n",
              "        vertical-align: top;\n",
              "    }\n",
              "\n",
              "    .dataframe thead th {\n",
              "        text-align: right;\n",
              "    }\n",
              "</style>\n",
              "<table border=\"1\" class=\"dataframe\">\n",
              "  <thead>\n",
              "    <tr style=\"text-align: right;\">\n",
              "      <th></th>\n",
              "      <th>title</th>\n",
              "      <th>text</th>\n",
              "    </tr>\n",
              "    <tr>\n",
              "      <th>Unnamed: 0</th>\n",
              "      <th></th>\n",
              "      <th></th>\n",
              "    </tr>\n",
              "  </thead>\n",
              "  <tbody>\n",
              "    <tr>\n",
              "      <th>8476</th>\n",
              "      <td>You Can Smell Hillary’s Fear</td>\n",
              "      <td>Daniel Greenfield, a Shillman Journalism Fello...</td>\n",
              "    </tr>\n",
              "    <tr>\n",
              "      <th>10294</th>\n",
              "      <td>Watch The Exact Moment Paul Ryan Committed Pol...</td>\n",
              "      <td>Google Pinterest Digg Linkedin Reddit Stumbleu...</td>\n",
              "    </tr>\n",
              "    <tr>\n",
              "      <th>3608</th>\n",
              "      <td>Kerry to go to Paris in gesture of sympathy</td>\n",
              "      <td>U.S. Secretary of State John F. Kerry said Mon...</td>\n",
              "    </tr>\n",
              "    <tr>\n",
              "      <th>10142</th>\n",
              "      <td>Bernie supporters on Twitter erupt in anger ag...</td>\n",
              "      <td>— Kaydee King (@KaydeeKing) November 9, 2016 T...</td>\n",
              "    </tr>\n",
              "    <tr>\n",
              "      <th>875</th>\n",
              "      <td>The Battle of New York: Why This Primary Matters</td>\n",
              "      <td>It's primary day in New York and front-runners...</td>\n",
              "    </tr>\n",
              "    <tr>\n",
              "      <th>...</th>\n",
              "      <td>...</td>\n",
              "      <td>...</td>\n",
              "    </tr>\n",
              "    <tr>\n",
              "      <th>4490</th>\n",
              "      <td>State Department says it can't find emails fro...</td>\n",
              "      <td>The State Department told the Republican Natio...</td>\n",
              "    </tr>\n",
              "    <tr>\n",
              "      <th>8062</th>\n",
              "      <td>The ‘P’ in PBS Should Stand for ‘Plutocratic’ ...</td>\n",
              "      <td>The ‘P’ in PBS Should Stand for ‘Plutocratic’ ...</td>\n",
              "    </tr>\n",
              "    <tr>\n",
              "      <th>8622</th>\n",
              "      <td>Anti-Trump Protesters Are Tools of the Oligarc...</td>\n",
              "      <td>Anti-Trump Protesters Are Tools of the Oligar...</td>\n",
              "    </tr>\n",
              "    <tr>\n",
              "      <th>4021</th>\n",
              "      <td>In Ethiopia, Obama seeks progress on peace, se...</td>\n",
              "      <td>ADDIS ABABA, Ethiopia —President Obama convene...</td>\n",
              "    </tr>\n",
              "    <tr>\n",
              "      <th>4330</th>\n",
              "      <td>Jeb Bush Is Suddenly Attacking Trump. Here's W...</td>\n",
              "      <td>Jeb Bush Is Suddenly Attacking Trump. Here's W...</td>\n",
              "    </tr>\n",
              "  </tbody>\n",
              "</table>\n",
              "<p>6335 rows × 2 columns</p>\n",
              "</div>"
            ],
            "text/plain": [
              "                                                        title                                               text\n",
              "Unnamed: 0                                                                                                      \n",
              "8476                             You Can Smell Hillary’s Fear  Daniel Greenfield, a Shillman Journalism Fello...\n",
              "10294       Watch The Exact Moment Paul Ryan Committed Pol...  Google Pinterest Digg Linkedin Reddit Stumbleu...\n",
              "3608              Kerry to go to Paris in gesture of sympathy  U.S. Secretary of State John F. Kerry said Mon...\n",
              "10142       Bernie supporters on Twitter erupt in anger ag...  — Kaydee King (@KaydeeKing) November 9, 2016 T...\n",
              "875          The Battle of New York: Why This Primary Matters  It's primary day in New York and front-runners...\n",
              "...                                                       ...                                                ...\n",
              "4490        State Department says it can't find emails fro...  The State Department told the Republican Natio...\n",
              "8062        The ‘P’ in PBS Should Stand for ‘Plutocratic’ ...  The ‘P’ in PBS Should Stand for ‘Plutocratic’ ...\n",
              "8622        Anti-Trump Protesters Are Tools of the Oligarc...   Anti-Trump Protesters Are Tools of the Oligar...\n",
              "4021        In Ethiopia, Obama seeks progress on peace, se...  ADDIS ABABA, Ethiopia —President Obama convene...\n",
              "4330        Jeb Bush Is Suddenly Attacking Trump. Here's W...  Jeb Bush Is Suddenly Attacking Trump. Here's W...\n",
              "\n",
              "[6335 rows x 2 columns]"
            ]
          },
          "metadata": {
            "tags": []
          },
          "execution_count": 28
        }
      ]
    },
    {
      "cell_type": "code",
      "metadata": {
        "id": "ha9WNbprjcYr",
        "colab_type": "code",
        "colab": {}
      },
      "source": [
        "X_train, X_test, y_train, y_test = train_test_split(df['text'], y, test_size=0.33, random_state=53)"
      ],
      "execution_count": 29,
      "outputs": []
    },
    {
      "cell_type": "code",
      "metadata": {
        "id": "LgEx5Qgejmsk",
        "colab_type": "code",
        "colab": {}
      },
      "source": [
        "count_vectorizer = CountVectorizer(stop_words='english')"
      ],
      "execution_count": 30,
      "outputs": []
    },
    {
      "cell_type": "code",
      "metadata": {
        "id": "ZwobE-Byj3C0",
        "colab_type": "code",
        "colab": {}
      },
      "source": [
        "count_train = count_vectorizer.fit_transform(X_train)                  # Learn the vocabulary dictionary and return term-document matrix."
      ],
      "execution_count": 33,
      "outputs": []
    },
    {
      "cell_type": "code",
      "metadata": {
        "id": "aGfh_GZ6j5gO",
        "colab_type": "code",
        "colab": {}
      },
      "source": [
        "count_test = count_vectorizer.transform(X_test)"
      ],
      "execution_count": 32,
      "outputs": []
    },
    {
      "cell_type": "code",
      "metadata": {
        "id": "pvw_p82rj7-J",
        "colab_type": "code",
        "colab": {}
      },
      "source": [
        "tfidf_vectorizer = TfidfVectorizer(stop_words='english', max_df=0.7)    # This removes words which appear in more than 70% of the articles\n"
      ],
      "execution_count": 34,
      "outputs": []
    },
    {
      "cell_type": "code",
      "metadata": {
        "id": "FKoMwBc7kHV_",
        "colab_type": "code",
        "colab": {}
      },
      "source": [
        "tfidf_train = tfidf_vectorizer.fit_transform(X_train) "
      ],
      "execution_count": 37,
      "outputs": []
    },
    {
      "cell_type": "code",
      "metadata": {
        "id": "7fAu6g8lkJi2",
        "colab_type": "code",
        "colab": {}
      },
      "source": [
        "tfidf_test = tfidf_vectorizer.transform(X_test)"
      ],
      "execution_count": 36,
      "outputs": []
    },
    {
      "cell_type": "code",
      "metadata": {
        "id": "9TP73mY7kLyZ",
        "colab_type": "code",
        "colab": {
          "base_uri": "https://localhost:8080/",
          "height": 34
        },
        "outputId": "f3cd4c18-1acf-4e21-ff31-11cfb5939e9b"
      },
      "source": [
        "print(tfidf_vectorizer.get_feature_names()[-10:])"
      ],
      "execution_count": 41,
      "outputs": [
        {
          "output_type": "stream",
          "text": [
            "['حلب', 'عربي', 'عن', 'لم', 'ما', 'محاولات', 'من', 'هذا', 'والمرضى', 'ยงade']\n"
          ],
          "name": "stdout"
        }
      ]
    },
    {
      "cell_type": "code",
      "metadata": {
        "id": "tSUlpvJ3kcvl",
        "colab_type": "code",
        "colab": {
          "base_uri": "https://localhost:8080/",
          "height": 34
        },
        "outputId": "21b08077-5de3-4331-a35b-80650fc10dd5"
      },
      "source": [
        "print(count_vectorizer.get_feature_names()[:10])"
      ],
      "execution_count": 42,
      "outputs": [
        {
          "output_type": "stream",
          "text": [
            "['00', '000', '0000', '00000031', '000035', '00006', '0001', '0001pt', '000ft', '000km']\n"
          ],
          "name": "stdout"
        }
      ]
    },
    {
      "cell_type": "code",
      "metadata": {
        "id": "3Z0-PyqWksuR",
        "colab_type": "code",
        "colab": {}
      },
      "source": [
        "count_df = pd.DataFrame(count_train.A, columns=count_vectorizer.get_feature_names())"
      ],
      "execution_count": 44,
      "outputs": []
    },
    {
      "cell_type": "code",
      "metadata": {
        "id": "4XQsAZa9k_rZ",
        "colab_type": "code",
        "colab": {}
      },
      "source": [
        "tfidf_df = pd.DataFrame(tfidf_train.A, columns=tfidf_vectorizer.get_feature_names())"
      ],
      "execution_count": 45,
      "outputs": []
    },
    {
      "cell_type": "code",
      "metadata": {
        "id": "VwpNh1g6lJhb",
        "colab_type": "code",
        "colab": {}
      },
      "source": [
        "difference = set(count_df.columns) - set(tfidf_df.columns)"
      ],
      "execution_count": 47,
      "outputs": []
    },
    {
      "cell_type": "code",
      "metadata": {
        "id": "EWm_GrPulRqi",
        "colab_type": "code",
        "colab": {
          "base_uri": "https://localhost:8080/",
          "height": 34
        },
        "outputId": "9ce9b843-7a2b-4391-9bc2-ab3fa2ec787d"
      },
      "source": [
        "difference"
      ],
      "execution_count": 49,
      "outputs": [
        {
          "output_type": "execute_result",
          "data": {
            "text/plain": [
              "set()"
            ]
          },
          "metadata": {
            "tags": []
          },
          "execution_count": 49
        }
      ]
    },
    {
      "cell_type": "code",
      "metadata": {
        "id": "TOFdncRBlg6D",
        "colab_type": "code",
        "colab": {
          "base_uri": "https://localhost:8080/",
          "height": 34
        },
        "outputId": "8d10ddb1-4858-4c11-dfe6-a4d989626499"
      },
      "source": [
        "print(count_df.equals(tfidf_df))"
      ],
      "execution_count": 50,
      "outputs": [
        {
          "output_type": "stream",
          "text": [
            "False\n"
          ],
          "name": "stdout"
        }
      ]
    },
    {
      "cell_type": "code",
      "metadata": {
        "id": "MiNuY10flv76",
        "colab_type": "code",
        "colab": {
          "base_uri": "https://localhost:8080/",
          "height": 153
        },
        "outputId": "2d6a7d14-3642-425b-9ed0-81c2dd5df713"
      },
      "source": [
        "print(count_df.head())"
      ],
      "execution_count": 51,
      "outputs": [
        {
          "output_type": "stream",
          "text": [
            "   00  000  0000  00000031  000035  00006  ...  ما  محاولات  من  هذا  والمرضى  ยงade\n",
            "0   0    0     0         0       0      0  ...   0        0   0    0        0      0\n",
            "1   0    0     0         0       0      0  ...   0        0   0    0        0      0\n",
            "2   0    0     0         0       0      0  ...   0        0   0    0        0      0\n",
            "3   0    0     0         0       0      0  ...   0        0   0    0        0      0\n",
            "4   0    0     0         0       0      0  ...   0        0   0    0        0      0\n",
            "\n",
            "[5 rows x 56922 columns]\n"
          ],
          "name": "stdout"
        }
      ]
    },
    {
      "cell_type": "code",
      "metadata": {
        "id": "Q5v5oPYCly2h",
        "colab_type": "code",
        "colab": {
          "base_uri": "https://localhost:8080/",
          "height": 153
        },
        "outputId": "3cdf40cc-3712-49eb-8a87-8a8044f8288a"
      },
      "source": [
        "print(tfidf_df.head())"
      ],
      "execution_count": 52,
      "outputs": [
        {
          "output_type": "stream",
          "text": [
            "    00  000  0000  00000031  000035  ...  محاولات   من  هذا  والمرضى  ยงade\n",
            "0  0.0  0.0   0.0       0.0     0.0  ...      0.0  0.0  0.0      0.0    0.0\n",
            "1  0.0  0.0   0.0       0.0     0.0  ...      0.0  0.0  0.0      0.0    0.0\n",
            "2  0.0  0.0   0.0       0.0     0.0  ...      0.0  0.0  0.0      0.0    0.0\n",
            "3  0.0  0.0   0.0       0.0     0.0  ...      0.0  0.0  0.0      0.0    0.0\n",
            "4  0.0  0.0   0.0       0.0     0.0  ...      0.0  0.0  0.0      0.0    0.0\n",
            "\n",
            "[5 rows x 56922 columns]\n"
          ],
          "name": "stdout"
        }
      ]
    },
    {
      "cell_type": "code",
      "metadata": {
        "id": "7644s1ndl1wj",
        "colab_type": "code",
        "colab": {}
      },
      "source": [
        "# Function to plot the confusion matrix \n",
        "#--------------------------------------------------------------\n",
        "\n",
        "def plot_confusion_matrix(cm, classes,\n",
        "                          normalize=False,\n",
        "                          title='Confusion matrix',\n",
        "                          cmap=plt.cm.Blues):\n",
        "    \"\"\"\n",
        "    See full source and example: \n",
        "    http://scikit-learn.org/stable/auto_examples/model_selection/plot_confusion_matrix.html\n",
        "    \n",
        "    This function prints and plots the confusion matrix.\n",
        "    Normalization can be applied by setting `normalize=True`.\n",
        "    \"\"\"\n",
        "    plt.imshow(cm, interpolation='nearest', cmap=cmap)\n",
        "    plt.title(title)\n",
        "    plt.colorbar()\n",
        "    tick_marks = np.arange(len(classes))\n",
        "    plt.xticks(tick_marks, classes, rotation=45)\n",
        "    plt.yticks(tick_marks, classes)\n",
        "\n",
        "    if normalize:\n",
        "        cm = cm.astype('float') / cm.sum(axis=1)[:, np.newaxis]\n",
        "        print(\"Normalized confusion matrix\")\n",
        "    else:\n",
        "        print('Confusion matrix, without normalization')\n",
        "\n",
        "    thresh = cm.max() / 2.\n",
        "    for i, j in itertools.product(range(cm.shape[0]), range(cm.shape[1])):\n",
        "        plt.text(j, i, cm[i, j],\n",
        "                 horizontalalignment=\"center\",\n",
        "                 color=\"white\" if cm[i, j] > thresh else \"black\")\n",
        "\n",
        "    plt.tight_layout()\n",
        "    plt.ylabel('True label')\n",
        "    plt.xlabel('Predicted label')\n"
      ],
      "execution_count": 53,
      "outputs": []
    },
    {
      "cell_type": "code",
      "metadata": {
        "id": "QwJ2oMfnl-7i",
        "colab_type": "code",
        "colab": {
          "base_uri": "https://localhost:8080/",
          "height": 433
        },
        "outputId": "2487e1bb-e91e-4661-b454-e4c9ee0672de"
      },
      "source": [
        "# Naive Bayes classifier for Multinomial model \n",
        "#--------------------------------------------------------------\n",
        "\n",
        "clf = MultinomialNB() \n",
        "\n",
        "clf.fit(tfidf_train, y_train)                       # Fit Naive Bayes classifier according to X, y\n",
        "\n",
        "pred = clf.predict(tfidf_test)                     # Perform classification on an array of test vectors X.\n",
        "score = metrics.accuracy_score(y_test, pred)\n",
        "print(\"accuracy:   %0.3f\" % score)\n",
        "cm = metrics.confusion_matrix(y_test, pred, labels=['FAKE', 'REAL'])\n",
        "plot_confusion_matrix(cm, classes=['FAKE', 'REAL'])\n",
        "print(cm)\n",
        "\n",
        "\n",
        "clf = MultinomialNB()\n",
        "\n",
        "clf.fit(count_train, y_train)\n",
        "\n",
        "pred = clf.predict(count_test)\n",
        "score = metrics.accuracy_score(y_test, pred)\n",
        "print(\"accuracy:   %0.3f\" % score)\n",
        "cm = metrics.confusion_matrix(y_test, pred, labels=['FAKE', 'REAL'])\n",
        "plot_confusion_matrix(cm, classes=['FAKE', 'REAL'])\n",
        "print(cm)"
      ],
      "execution_count": 54,
      "outputs": [
        {
          "output_type": "stream",
          "text": [
            "accuracy:   0.857\n",
            "Confusion matrix, without normalization\n",
            "[[ 739  269]\n",
            " [  31 1052]]\n",
            "accuracy:   0.893\n",
            "Confusion matrix, without normalization\n",
            "[[ 865  143]\n",
            " [  80 1003]]\n"
          ],
          "name": "stdout"
        },
        {
          "output_type": "display_data",
          "data": {
            "image/png": "[encoded data removed]",
            "text/plain": [
              "<Figure size 432x288 with 3 Axes>"
            ]
          },
          "metadata": {
            "tags": [],
            "needs_background": "light"
          }
        }
      ]
    },
    {
      "cell_type": "code",
      "metadata": {
        "id": "elDrMMOVmIq_",
        "colab_type": "code",
        "colab": {
          "base_uri": "https://localhost:8080/",
          "height": 379
        },
        "outputId": "c67b20ac-3331-4fe7-ec91-737681e9ca95"
      },
      "source": [
        "#--------------------------------------------------------------\n",
        "# Applying Passive Aggressive Classifier\n",
        "#--------------------------------------------------------------\n",
        "\n",
        "linear_clf = PassiveAggressiveClassifier(n_iter_no_change=50)\n",
        "\n",
        "linear_clf.fit(tfidf_train, y_train)\n",
        "pred = linear_clf.predict(tfidf_test)\n",
        "score = metrics.accuracy_score(y_test, pred)\n",
        "print(\"accuracy:   %0.3f\" % score)\n",
        "cm = metrics.confusion_matrix(y_test, pred, labels=['FAKE', 'REAL'])\n",
        "plot_confusion_matrix(cm, classes=['FAKE', 'REAL'])\n",
        "print(cm)"
      ],
      "execution_count": 69,
      "outputs": [
        {
          "output_type": "stream",
          "text": [
            "accuracy:   0.934\n",
            "Confusion matrix, without normalization\n",
            "[[ 952   56]\n",
            " [  81 1002]]\n"
          ],
          "name": "stdout"
        },
        {
          "output_type": "display_data",
          "data": {
            "image/png": "[encoded data removed]",
            "text/plain": [
              "<Figure size 432x288 with 2 Axes>"
            ]
          },
          "metadata": {
            "tags": [],
            "needs_background": "light"
          }
        }
      ]
    },
    {
      "cell_type": "code",
      "metadata": {
        "id": "XfY3SkQdmQAm",
        "colab_type": "code",
        "colab": {}
      },
      "source": [
        "clf = MultinomialNB(alpha=0.1)               # Additive (Laplace/Lidstone) smoothing parameter"
      ],
      "execution_count": 70,
      "outputs": []
    },
    {
      "cell_type": "code",
      "metadata": {
        "id": "Lnw7W77ynCsc",
        "colab_type": "code",
        "colab": {
          "base_uri": "https://localhost:8080/",
          "height": 221
        },
        "outputId": "d6c37f1d-8791-462c-917e-775fd3b8f1a3"
      },
      "source": [
        "last_score = 0\n",
        "for alpha in np.arange(0,1,.1):\n",
        "    nb_classifier = MultinomialNB(alpha=alpha)\n",
        "    nb_classifier.fit(tfidf_train, y_train)\n",
        "    pred = nb_classifier.predict(tfidf_test)\n",
        "    score = metrics.accuracy_score(y_test, pred)\n",
        "    if score > last_score:\n",
        "        clf = nb_classifier\n",
        "    print(\"Alpha: {:.2f} Score: {:.5f}\".format(alpha, score))"
      ],
      "execution_count": 71,
      "outputs": [
        {
          "output_type": "stream",
          "text": [
            "/usr/local/lib/python3.6/dist-packages/sklearn/naive_bayes.py:507: UserWarning: alpha too small will result in numeric errors, setting alpha = 1.0e-10\n",
            "  'setting alpha = %.1e' % _ALPHA_MIN)\n"
          ],
          "name": "stderr"
        },
        {
          "output_type": "stream",
          "text": [
            "Alpha: 0.00 Score: 0.88140\n",
            "Alpha: 0.10 Score: 0.89766\n",
            "Alpha: 0.20 Score: 0.89383\n",
            "Alpha: 0.30 Score: 0.89000\n",
            "Alpha: 0.40 Score: 0.88570\n",
            "Alpha: 0.50 Score: 0.88427\n",
            "Alpha: 0.60 Score: 0.87470\n",
            "Alpha: 0.70 Score: 0.87040\n",
            "Alpha: 0.80 Score: 0.86609\n",
            "Alpha: 0.90 Score: 0.85892\n"
          ],
          "name": "stdout"
        }
      ]
    },
    {
      "cell_type": "code",
      "metadata": {
        "id": "e7bN1YUTnID9",
        "colab_type": "code",
        "colab": {
          "base_uri": "https://localhost:8080/",
          "height": 1000
        },
        "outputId": "ebe3d4cc-a2de-49c7-9e59-b405e0c6a12a"
      },
      "source": [
        "def most_informative_feature_for_binary_classification(vectorizer, classifier, n=100):       # inspect the top 30 vectors for fake and real news\n",
        "    \"\"\"\n",
        "    See: https://stackoverflow.com/a/26980472\n",
        "    \n",
        "    Identify most important features if given a vectorizer and binary classifier. Set n to the number\n",
        "    of weighted features you would like to show. (Note: current implementation merely prints and does not \n",
        "    return top classes.)\n",
        "    \"\"\"\n",
        "\n",
        "    class_labels = classifier.classes_\n",
        "    feature_names = vectorizer.get_feature_names()                                            # Array mapping from feature integer indices to feature name\n",
        "    topn_class1 = sorted(zip(classifier.coef_[0], feature_names))[:n]\n",
        "    topn_class2 = sorted(zip(classifier.coef_[0], feature_names))[-n:]\n",
        "\n",
        "    for coef, feat in topn_class1:\n",
        "        print(class_labels[0], coef, feat)\n",
        "\n",
        "    print()\n",
        "\n",
        "    for coef, feat in reversed(topn_class2):\n",
        "        print(class_labels[1], coef, feat)\n",
        "most_informative_feature_for_binary_classification(tfidf_vectorizer, linear_clf, n=30)\n",
        "feature_names = tfidf_vectorizer.get_feature_names()\n",
        "\n",
        "### Most real\n",
        "sorted(zip(clf.coef_[0], feature_names), reverse=True)[:20]\n",
        "\n",
        "### Most fake\n",
        "sorted(zip(clf.coef_[0], feature_names))[:20]                               # clearly there are certain words which might show political intent and source in the top fake features (such as the words corporate and establishment).\n",
        "\n",
        "tokens_with_weights = sorted(list(zip(feature_names, clf.coef_[0])))\n",
        "#print(tokens_with_weights)"
      ],
      "execution_count": 72,
      "outputs": [
        {
          "output_type": "stream",
          "text": [
            "FAKE -4.9429467634069795 2016\n",
            "FAKE -4.107571533652512 hillary\n",
            "FAKE -4.03437242789946 october\n",
            "FAKE -3.1845797772218982 share\n",
            "FAKE -3.049134538387495 november\n",
            "FAKE -2.928033913167468 article\n",
            "FAKE -2.6539874834484443 print\n",
            "FAKE -2.404791939976435 oct\n",
            "FAKE -2.222993535791876 advertisement\n",
            "FAKE -2.182390329965931 email\n",
            "FAKE -2.0692180559172315 mosul\n",
            "FAKE -2.0610649399041137 election\n",
            "FAKE -2.0554775115839212 establishment\n",
            "FAKE -2.0541839208011625 source\n",
            "FAKE -2.0297106422918856 war\n",
            "FAKE -1.9903869002398822 podesta\n",
            "FAKE -1.977709083657733 snip\n",
            "FAKE -1.9066436202664492 wikileaks\n",
            "FAKE -1.8818349565072352 nov\n",
            "FAKE -1.8814212059186184 com\n",
            "FAKE -1.8059973141749661 donald\n",
            "FAKE -1.8040866622384741 26\n",
            "FAKE -1.7983650447562773 pipeline\n",
            "FAKE -1.7956831700861484 dr\n",
            "FAKE -1.7735426773233918 jewish\n",
            "FAKE -1.7442880990661098 corporate\n",
            "FAKE -1.6450569705124423 ayotte\n",
            "FAKE -1.6449016737712836 youtube\n",
            "FAKE -1.6030022955020178 uk\n",
            "FAKE -1.596117442068524 entire\n",
            "\n",
            "REAL 4.734670620752771 said\n",
            "REAL 2.7868693680139813 says\n",
            "REAL 2.523520778177353 cruz\n",
            "REAL 2.512829432616364 tuesday\n",
            "REAL 2.4801401166774872 islamic\n",
            "REAL 2.4168874480469413 gop\n",
            "REAL 2.3510186676467675 friday\n",
            "REAL 2.2555849736132156 monday\n",
            "REAL 2.238602867553237 marriage\n",
            "REAL 2.235661157128812 jobs\n",
            "REAL 2.0983754395394794 conservative\n",
            "REAL 2.0694548293033423 attacks\n",
            "REAL 2.0462922272230246 rush\n",
            "REAL 2.0436110052429726 sen\n",
            "REAL 2.004898100942049 candidates\n",
            "REAL 2.0045543631712386 continue\n",
            "REAL 1.946151296868328 paris\n",
            "REAL 1.8945750374024601 debate\n",
            "REAL 1.8606566453094278 convention\n",
            "REAL 1.8525706838156022 sunday\n",
            "REAL 1.8204245426965437 presumptive\n",
            "REAL 1.8133921116362939 attack\n",
            "REAL 1.7644079899201237 march\n",
            "REAL 1.7636414849860444 deal\n",
            "REAL 1.7612705263142026 conservatives\n",
            "REAL 1.7472358805240777 campaign\n",
            "REAL 1.6881446802311357 security\n",
            "REAL 1.664482938380553 say\n",
            "REAL 1.6635129406386124 week\n",
            "REAL 1.6460945124913011 recounts\n"
          ],
          "name": "stdout"
        }
      ]
    },
    {
      "cell_type": "code",
      "metadata": {
        "id": "_thuqfs9npBQ",
        "colab_type": "code",
        "colab": {
          "base_uri": "https://localhost:8080/",
          "height": 379
        },
        "outputId": "54d4955f-d802-4e11-d1bb-fb7c103ac95b"
      },
      "source": [
        "#--------------------------------------------------------------\n",
        "# Applying Passive Aggressive Classifier\n",
        "#--------------------------------------------------------------\n",
        "\n",
        "clf = PassiveAggressiveClassifier(n_iter_no_change=50)    \n",
        "\n",
        "clf.fit(hash_train, y_train)\n",
        "pred = clf.predict(hash_test)\n",
        "score = metrics.accuracy_score(y_test, pred)\n",
        "print(\"accuracy:   %0.3f\" % score)\n",
        "cm = metrics.confusion_matrix(y_test, pred, labels=['FAKE', 'REAL'])\n",
        "plot_confusion_matrix(cm, classes=['FAKE', 'REAL'])\n",
        "print(cm)"
      ],
      "execution_count": 78,
      "outputs": [
        {
          "output_type": "stream",
          "text": [
            "accuracy:   0.921\n",
            "Confusion matrix, without normalization\n",
            "[[934  74]\n",
            " [ 91 992]]\n"
          ],
          "name": "stdout"
        },
        {
          "output_type": "display_data",
          "data": {
            "image/png": "[encoded data removed]",
            "text/plain": [
              "<Figure size 432x288 with 2 Axes>"
            ]
          },
          "metadata": {
            "tags": [],
            "needs_background": "light"
          }
        }
      ]
    },
    {
      "cell_type": "code",
      "metadata": {
        "id": "QsacO5_RooIY",
        "colab_type": "code",
        "colab": {}
      },
      "source": [
        ""
      ],
      "execution_count": null,
      "outputs": []
    }
  ]
}